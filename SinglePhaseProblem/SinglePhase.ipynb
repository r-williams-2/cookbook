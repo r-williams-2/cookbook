{
 "cells": [
  {
   "cell_type": "markdown",
   "metadata": {},
   "source": [
    "# Question 2022-02-03: Plot NP vs T; Phase Composition vs T\n",
    "Seem to get strange behaviour with multiple versions of the same phase appearing, not summing to unity."
   ]
  },
  {
   "cell_type": "code",
   "execution_count": null,
   "metadata": {},
   "outputs": [],
   "source": [
    "from pycalphad import Database, equilibrium, variables as v\n",
    "import numpy as np\n",
    "\n",
    "num_points = 2 # Number of concentration values for each element\n",
    "T_start = 600.0 # degrees C\n",
    "T_end = 1300.0 # degrees C\n",
    "T_inc = 100.0 # degrees C\n",
    "Pressure = 101325.0 # Pa\n",
    "\n",
    "my_els = ['NI', 'AL', 'CO', 'CR', 'MO', 'TI', 'VA']\n",
    "concentrations = [0.064, 0.18, 0.16, 0.030, 0.043] # bulk composition\n",
    "concentrations_gamma = [0.0587, 0.1955, 0.1828, 0.03, 0.0421]\n",
    "concentrations_gamma_prime = [0.123, 0.06, 0.025, 0.0006, 0.087] # gamma prime composition\n",
    "\n",
    "my_phases_alni = ['FCC_A1']\n",
    "\n",
    "dbf = Database('mc_ni_v2.034.tdb')\n",
    "\n",
    "concentrations_gamma = np.array(concentrations_gamma)\n",
    "concentrations_gamma_prime = np.array(concentrations_gamma_prime)\n",
    "\n",
    "concentrations_min = []\n",
    "concentrations_max = []\n",
    "\n",
    "for counter in range(len(concentrations_gamma)):\n",
    "    if concentrations_gamma[counter] < concentrations_gamma_prime[counter]:\n",
    "        concentrations_min += [concentrations_gamma[counter]]\n",
    "        concentrations_max += [concentrations_gamma_prime[counter]]\n",
    "    elif concentrations_gamma[counter] > concentrations_gamma_prime[counter]:\n",
    "        concentrations_max += [concentrations_gamma[counter]]\n",
    "        concentrations_min += [concentrations_gamma_prime[counter]]\n",
    "\n",
    "\n",
    "my_vars = {v.X('AL'):(np.linspace(concentrations_min[0], concentrations_max[0], num_points)),\n",
    "           v.X('CO'):(np.linspace(concentrations_min[1], concentrations_max[1], num_points)),\n",
    "           v.X('CR'):(np.linspace(concentrations_min[2], concentrations_max[2], num_points)),\n",
    "           v.X('MO'):(np.linspace(concentrations_min[3], concentrations_max[3], num_points)),\n",
    "           v.X('TI'):(np.linspace(concentrations_min[4], concentrations_max[4], num_points)),\n",
    "           v.T:(T_start+273.15, T_end+273.15, T_inc),\n",
    "           v.P:Pressure}\n",
    "\n",
    "eq = equilibrium(dbf, my_els, my_phases_alni, my_vars)"
   ]
  },
  {
   "cell_type": "markdown",
   "metadata": {},
   "source": [
    "## NP vs. T"
   ]
  },
  {
   "cell_type": "code",
   "execution_count": null,
   "metadata": {},
   "outputs": [],
   "source": [
    "import matplotlib.pyplot as plt\n",
    "import numpy as np\n",
    "from pycalphad.plot.utils import phase_legend\n",
    "phases = sorted(set(eq.Phase.values.flatten()) - {''})\n",
    "phase_handles, phasemap = phase_legend(phases)\n",
    "\n",
    "plt.gca().set_title('Phase fractions vs T')\n",
    "plt.gca().set_xlabel('Temperature (Celsius)')\n",
    "plt.gca().set_ylabel('Phase Fraction')\n",
    "plt.gca().set_ylim((0,1.1))\n",
    "plt.gca().set_xlim((T_start, T_end))\n",
    "\n",
    "for name in phases:\n",
    "    plt.scatter(eq.T.broadcast_like(eq.NP)-273.15, eq.NP.where(eq.Phase == my_phases_alni[0]), color=phasemap[name])\n",
    "plt.gca().legend(phase_handles, phases, loc='lower right')"
   ]
  },
  {
   "cell_type": "code",
   "execution_count": null,
   "metadata": {},
   "outputs": [],
   "source": []
  }
 ],
 "metadata": {
  "kernelspec": {
   "display_name": "Python 3 (ipykernel)",
   "language": "python",
   "name": "python3"
  },
  "language_info": {
   "codemirror_mode": {
    "name": "ipython",
    "version": 3
   },
   "file_extension": ".py",
   "mimetype": "text/x-python",
   "name": "python",
   "nbconvert_exporter": "python",
   "pygments_lexer": "ipython3",
   "version": "3.8.12"
  }
 },
 "nbformat": 4,
 "nbformat_minor": 4
}
